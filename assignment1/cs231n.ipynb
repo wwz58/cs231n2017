{
 "cells": [
  {
   "cell_type": "code",
   "execution_count": null,
   "metadata": {},
   "outputs": [],
   "source": [
    "softmax gradient smax--->w derive\n",
    "smax() = -log(pj) = -log (exp(sj)/sum(exp(si))) = -yi*pi {y在yj处为1其他为0，pi=exp(si)/sum(exp(si))}\n",
    "先求smax--->pj 再求pj--->si(s=j,i!=j) then s--->w\n",
    "            smax-->pi            i=j : pj(1-pj) i!=j : -pi*pj\n",
    "            smax-->si            i=j : pj-1     i!=j : pi"
   ]
  }
 ],
 "metadata": {
  "kernelspec": {
   "display_name": "Python 3",
   "language": "python",
   "name": "python3"
  },
  "language_info": {
   "codemirror_mode": {
    "name": "ipython",
    "version": 3
   },
   "file_extension": ".py",
   "mimetype": "text/x-python",
   "name": "python",
   "nbconvert_exporter": "python",
   "pygments_lexer": "ipython3",
   "version": "3.6.5"
  }
 },
 "nbformat": 4,
 "nbformat_minor": 2
}
